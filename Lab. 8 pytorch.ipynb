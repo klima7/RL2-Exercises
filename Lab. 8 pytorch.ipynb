{
  "cells": [
    {
      "attachments": {},
      "cell_type": "markdown",
      "metadata": {},
      "source": [
        "## Libraries"
      ]
    },
    {
      "cell_type": "code",
      "execution_count": null,
      "metadata": {
        "id": "o4YtmuXTrnTs"
      },
      "outputs": [],
      "source": [
        "%pip install gymnasium\n",
        "%pip install gymnasium[atari]\n",
        "%pip install gymnasium[accept-rom-license]"
      ]
    },
    {
      "cell_type": "code",
      "execution_count": 2,
      "metadata": {
        "collapsed": true,
        "id": "HFCWxsAkpIjA"
      },
      "outputs": [],
      "source": [
        "import random\n",
        "import gymnasium as gym\n",
        "import numpy as np\n",
        "import matplotlib.pyplot as plt\n",
        "from einops import rearrange\n",
        "%matplotlib inline"
      ]
    },
    {
      "cell_type": "code",
      "execution_count": 3,
      "metadata": {},
      "outputs": [],
      "source": [
        "import torch\n",
        "from torchinfo import summary\n",
        "from torch import nn\n",
        "from torch.optim import Adam\n",
        "from torch.utils.data import DataLoader\n",
        "from torch.utils.data.dataset import IterableDataset\n",
        "from pytorch_lightning import LightningModule, Trainer"
      ]
    },
    {
      "attachments": {},
      "cell_type": "markdown",
      "metadata": {},
      "source": [
        "## Environment"
      ]
    },
    {
      "cell_type": "code",
      "execution_count": 4,
      "metadata": {
        "id": "sdpPAb2ByhFf"
      },
      "outputs": [],
      "source": [
        "import cv2\n",
        "from gymnasium.core import ObservationWrapper\n",
        "from gymnasium.spaces import Box\n",
        "import matplotlib.pyplot as plt\n",
        "\n",
        "class PreprocessAtari(ObservationWrapper):\n",
        "    def __init__(self, env):\n",
        "        ObservationWrapper.__init__(self, env)\n",
        "        self.img_size = (64, 64)\n",
        "        self.observation_space = Box(0.0, 1.0, (1, self.img_size[0], self.img_size[1]))\n",
        "\n",
        "    def observation(self, img):\n",
        "        img = cv2.cvtColor(img, cv2.COLOR_RGB2GRAY)\n",
        "        img = img[57:-17, 6:-6]\n",
        "        img = cv2.resize(img, self.img_size)\n",
        "        img = img[np.newaxis,...]\n",
        "        return img"
      ]
    },
    {
      "cell_type": "code",
      "execution_count": 5,
      "metadata": {
        "id": "za3pVaaWqnwX"
      },
      "outputs": [],
      "source": [
        "from gymnasium.spaces.box import Box\n",
        "from gymnasium.core import Wrapper\n",
        "\n",
        "class FrameBuffer(Wrapper):\n",
        "    def __init__(self, env, n_frames=4, dim_order='tensorflow'):\n",
        "        super(FrameBuffer, self).__init__(env)\n",
        "        self.dim_order = dim_order\n",
        "        n_channels, height, width = env.observation_space.shape\n",
        "        obs_shape = [n_channels * n_frames, height, width]\n",
        "        self.observation_space = Box(0.0, 1.0, obs_shape)\n",
        "        self.framebuffer = np.zeros(obs_shape, 'float32')\n",
        "        \n",
        "    def reset(self):\n",
        "        self.framebuffer = np.zeros_like(self.framebuffer)\n",
        "        self.update_buffer(self.env.reset()[0])\n",
        "        return self.framebuffer\n",
        "    \n",
        "    def step(self, action):\n",
        "        new_img, reward, done, info, _ = self.env.step(action)\n",
        "        self.update_buffer(new_img)\n",
        "        return self.framebuffer, reward, done, info\n",
        "    \n",
        "    def update_buffer(self, img):\n",
        "        offset = self.env.observation_space.shape[0]\n",
        "        axis = 0\n",
        "        cropped_framebuffer = self.framebuffer[:-offset]\n",
        "        self.framebuffer = np.concatenate([img, cropped_framebuffer], axis = axis)"
      ]
    },
    {
      "cell_type": "code",
      "execution_count": 6,
      "metadata": {
        "collapsed": true,
        "id": "wWEBJq27pIjC",
        "scrolled": false
      },
      "outputs": [
        {
          "name": "stderr",
          "output_type": "stream",
          "text": [
            "A.L.E: Arcade Learning Environment (version 0.8.1+53f58b7)\n",
            "[Powered by Stella]\n"
          ]
        }
      ],
      "source": [
        "def make_env():\n",
        "    env = gym.make(\"BreakoutDeterministic-v4\")\n",
        "    env = PreprocessAtari(env)\n",
        "    env = FrameBuffer(env, n_frames=4, dim_order='pytorch')\n",
        "    return env\n",
        "\n",
        "env = make_env()\n",
        "env.reset()\n",
        "n_actions = env.action_space.n\n",
        "state_dim = env.observation_space.shape"
      ]
    },
    {
      "cell_type": "code",
      "execution_count": 7,
      "metadata": {
        "collapsed": true,
        "id": "LpGgZ-5BpIjC"
      },
      "outputs": [
        {
          "data": {
            "image/png": "[encoded data removed]",
            "text/plain": [
              "<Figure size 640x480 with 1 Axes>"
            ]
          },
          "metadata": {},
          "output_type": "display_data"
        }
      ],
      "source": [
        "for _ in range(50):\n",
        "    obs, _, _, _ = env.step(env.action_space.sample())\n",
        "\n",
        "\n",
        "plt.title(\"Game image\")\n",
        "plt.title(\"Agent observation (4 frames left to right)\")\n",
        "plt.imshow(rearrange(obs, 'n h w -> h (n w)'), 'gray');"
      ]
    },
    {
      "attachments": {},
      "cell_type": "markdown",
      "metadata": {},
      "source": [
        "## Replay buffer"
      ]
    },
    {
      "cell_type": "code",
      "execution_count": 8,
      "metadata": {},
      "outputs": [],
      "source": [
        "class ReplayBuffer(object):\n",
        "    def __init__(self, size):\n",
        "        self._storage = []\n",
        "        self._maxsize = size\n",
        "        self._next_idx = 0\n",
        "\n",
        "    def __len__(self):\n",
        "        return len(self._storage)\n",
        "\n",
        "    def add(self, obs_t, action, reward, obs_tp1, done):\n",
        "        data = (obs_t, action, reward, obs_tp1, done)\n",
        "\n",
        "        if self._next_idx >= len(self._storage):\n",
        "            self._storage.append(data)\n",
        "        else:\n",
        "            self._storage[self._next_idx] = data\n",
        "        self._next_idx = (self._next_idx + 1) % self._maxsize\n",
        "\n",
        "    def _encode_sample(self, idxes):\n",
        "        obses_t, actions, rewards, obses_tp1, dones = [], [], [], [], []\n",
        "        for i in idxes:\n",
        "            data = self._storage[i]\n",
        "            obs_t, action, reward, obs_tp1, done = data\n",
        "            obses_t.append(np.array(obs_t, copy=False))\n",
        "            actions.append(np.array(action, copy=False))\n",
        "            rewards.append(reward)\n",
        "            obses_tp1.append(np.array(obs_tp1, copy=False))\n",
        "            dones.append(done)\n",
        "        return (\n",
        "            np.array(obses_t),\n",
        "            np.array(actions),\n",
        "            np.array(rewards),\n",
        "            np.array(obses_tp1),\n",
        "            np.array(dones)\n",
        "        )\n",
        "\n",
        "    def sample(self, batch_size):\n",
        "        idxes = [\n",
        "            random.randint(0, len(self._storage) - 1)\n",
        "            for _ in range(batch_size)\n",
        "        ]\n",
        "        return self._encode_sample(idxes)"
      ]
    },
    {
      "cell_type": "code",
      "execution_count": 9,
      "metadata": {},
      "outputs": [],
      "source": [
        "class ReplayDataset(IterableDataset):\n",
        "    \n",
        "    def __init__(self, replay, batch_size):\n",
        "        self.replay = replay\n",
        "        self.batch_size = batch_size\n",
        "        \n",
        "    def __iter__(self):\n",
        "        states, actions, rewards, next_states, dones = self.replay.sample(self.batch_size)\n",
        "        for data in zip(states, actions, rewards, next_states, dones):\n",
        "            yield data"
      ]
    },
    {
      "attachments": {},
      "cell_type": "markdown",
      "metadata": {},
      "source": [
        "## Agent"
      ]
    },
    {
      "cell_type": "code",
      "execution_count": 10,
      "metadata": {},
      "outputs": [],
      "source": [
        "class Network(nn.Module):\n",
        "\n",
        "    def __init__(self, obs_size, n_actions):\n",
        "        super().__init__()\n",
        "        self.net = nn.Sequential(\n",
        "            nn.Conv2d(obs_size[0], 16, kernel_size=3, stride=2),\n",
        "            nn.ReLU(),\n",
        "            nn.Conv2d(16, 32, kernel_size=3, stride=2),\n",
        "            nn.ReLU(),\n",
        "            nn.Conv2d(32, 64, kernel_size=3, stride=2),\n",
        "            nn.ReLU(),\n",
        "            nn.Flatten(),\n",
        "            nn.Linear(3136, 256),\n",
        "            nn.ReLU(),\n",
        "            nn.Linear(256, n_actions),\n",
        "        )\n",
        "\n",
        "    def forward(self, x):\n",
        "        return self.net(x.float())"
      ]
    },
    {
      "cell_type": "code",
      "execution_count": 17,
      "metadata": {},
      "outputs": [],
      "source": [
        "class DQNAgent(LightningModule):\n",
        "    \n",
        "    def __init__(self, state_shape, n_actions, epsilon=0, gamma=0.99, buffer_size=10_000, \n",
        "                 populate_steps=1_000, batch_size=512, max_steps=10_000):\n",
        "        super().__init__()\n",
        "        self.save_hyperparameters()\n",
        "        \n",
        "        self.env = make_env()\n",
        "        self.buffer = ReplayBuffer(buffer_size)\n",
        "        self.state = self.env.reset()\n",
        "        self.episode_reward = 0\n",
        "        self.total_reward = 0\n",
        "        \n",
        "        self.model = Network(state_shape, self.hparams.n_actions)\n",
        "        self.target_model = Network(state_shape, self.hparams.n_actions)\n",
        "        \n",
        "        self.populate()\n",
        "        \n",
        "    def populate(self):\n",
        "        for _ in range(self.hparams.populate_steps):\n",
        "            self.play_step()\n",
        "        self.state = self.env.reset()\n",
        "        \n",
        "    def get_action(self, state, device):\n",
        "        if random.random() < self.hparams.epsilon:\n",
        "            return self.get_random_action()\n",
        "        else:\n",
        "            return self.get_best_action(state, device)\n",
        "        \n",
        "    def get_best_action(self, state, device):\n",
        "        state = torch.tensor([state], device=device).float()\n",
        "        qvalues = self.model(state)[0]\n",
        "        best_action = torch.argmax(qvalues)\n",
        "        return best_action.item()\n",
        "   \n",
        "    def get_random_action(self):\n",
        "        return random.randint(0, self.hparams.n_actions-1)\n",
        "    \n",
        "    def update_epsilon(self):\n",
        "        self.hparams.epsilon = max(self.hparams.epsilon * 0.99, 0.02)\n",
        "    \n",
        "    def copy_weights(self):\n",
        "        self.model.load_state_dict(self.target_model.state_dict())\n",
        "        \n",
        "    def calculate_loss(self, batch):\n",
        "        states, actions, rewards, next_states, dones = batch\n",
        "        states = states.float()\n",
        "        actions = actions.float()\n",
        "        rewards = rewards.float()\n",
        "        next_states = next_states.float()\n",
        "        \n",
        "        state_action_values = self.target_model(states).gather(1, actions.long().unsqueeze(-1)).squeeze(-1)\n",
        "\n",
        "        with torch.no_grad():\n",
        "            next_state_values = self.model(next_states).max(1)[0]\n",
        "            next_state_values[dones] = 0.0\n",
        "            next_state_values = next_state_values.detach()\n",
        "\n",
        "        expected_state_action_values = next_state_values * self.hparams.gamma + rewards\n",
        "        return nn.MSELoss()(state_action_values, expected_state_action_values)\n",
        "    \n",
        "    def play_step(self, device='cpu'):\n",
        "        action = self.get_action(self.state, device)\n",
        "        self.log('action', action)\n",
        "        s_next, r, done, _ = self.env.step(action)\n",
        "        self.buffer.add(self.state, action, r, s_next, done)\n",
        "        self.state = s_next\n",
        "        if done == True:\n",
        "            self.state = self.env.reset()\n",
        "        return r, done\n",
        "    \n",
        "    def training_step(self, batch, batch_no):\n",
        "        device = self.get_device(batch)\n",
        "        reward, done = self.play_step(device)\n",
        "        self.episode_reward += reward\n",
        "        \n",
        "        self.log('step_reward', reward)\n",
        "        \n",
        "        self.log('total_reward', self.total_reward)\n",
        "        \n",
        "        if done == True:\n",
        "            print('logging', self.episode_reward)\n",
        "            self.total_reward = self.episode_reward\n",
        "            self.episode_reward = 0\n",
        "        \n",
        "        loss = self.calculate_loss(batch)\n",
        "        self.log('loss', loss)\n",
        "        \n",
        "        if self.global_step % 500 == 0:\n",
        "            self.copy_weights()\n",
        "            self.update_epsilon()\n",
        "        \n",
        "        self.log('epsilon', self.hparams.epsilon, prog_bar=True)\n",
        "        return loss\n",
        "    \n",
        "    def configure_optimizers(self):\n",
        "        optimizer = Adam(self.target_model.parameters(), lr=0.001)\n",
        "        return optimizer\n",
        "\n",
        "    def train_dataloader(self):\n",
        "        dataset = ReplayDataset(self.buffer, self.hparams.batch_size)\n",
        "        dataloader = DataLoader(dataset=dataset, batch_size=self.hparams.batch_size)\n",
        "        return dataloader\n",
        "    \n",
        "    def get_device(self, batch):\n",
        "        return batch[0].device.index if self.on_gpu else \"cpu\""
      ]
    },
    {
      "attachments": {},
      "cell_type": "markdown",
      "metadata": {},
      "source": [
        "## Training"
      ]
    },
    {
      "cell_type": "code",
      "execution_count": 18,
      "metadata": {},
      "outputs": [
        {
          "name": "stderr",
          "output_type": "stream",
          "text": [
            "/home/klima7/studies/guzw/notebooks/conda/lib/python3.10/site-packages/pytorch_lightning/core/module.py:410: UserWarning: You are trying to `self.log()` but the `self.trainer` reference is not registered on the model yet. This is most likely because the model hasn't been passed to the `Trainer`\n",
            "  rank_zero_warn(\n",
            "GPU available: True (cuda), used: True\n",
            "TPU available: False, using: 0 TPU cores\n",
            "IPU available: False, using: 0 IPUs\n",
            "HPU available: False, using: 0 HPUs\n",
            "You are using a CUDA device ('NVIDIA GeForce RTX 3060') that has Tensor Cores. To properly utilize them, you should set `torch.set_float32_matmul_precision('medium' | 'high')` which will trade-off precision for performance. For more details, read https://pytorch.org/docs/stable/generated/torch.set_float32_matmul_precision.html#torch.set_float32_matmul_precision\n",
            "LOCAL_RANK: 0 - CUDA_VISIBLE_DEVICES: [0]\n",
            "\n",
            "  | Name         | Type    | Params\n",
            "-----------------------------------------\n",
            "0 | model        | Network | 827 K \n",
            "1 | target_model | Network | 827 K \n",
            "-----------------------------------------\n",
            "1.7 M     Trainable params\n",
            "0         Non-trainable params\n",
            "1.7 M     Total params\n",
            "6.623     Total estimated model params size (MB)\n",
            "/home/klima7/studies/guzw/notebooks/conda/lib/python3.10/site-packages/pytorch_lightning/trainer/connectors/data_connector.py:430: PossibleUserWarning: The dataloader, train_dataloader, does not have many workers which may be a bottleneck. Consider increasing the value of the `num_workers` argument` (try 24 which is the number of cpus on this machine) in the `DataLoader` init to improve performance.\n",
            "  rank_zero_warn(\n",
            "/home/klima7/studies/guzw/notebooks/conda/lib/python3.10/site-packages/pytorch_lightning/trainer/connectors/logger_connector/result.py:212: UserWarning: You called `self.log('total_reward', ...)` in your `training_step` but the value needs to be floating point. Converting it to torch.float32.\n",
            "  warning_cache.warn(\n"
          ]
        },
        {
          "name": "stdout",
          "output_type": "stream",
          "text": [
            "logging 1.0\n",
            "logging 0.0\n",
            "logging 0.0\n",
            "logging 1.0\n",
            "logging 0.0\n",
            "logging 2.0\n",
            "logging 1.0\n",
            "logging 3.0\n",
            "logging 0.0\n"
          ]
        },
        {
          "name": "stderr",
          "output_type": "stream",
          "text": [
            "/home/klima7/studies/guzw/notebooks/conda/lib/python3.10/site-packages/pytorch_lightning/trainer/call.py:54: UserWarning: Detected KeyboardInterrupt, attempting graceful shutdown...\n",
            "  rank_zero_warn(\"Detected KeyboardInterrupt, attempting graceful shutdown...\")\n"
          ]
        }
      ],
      "source": [
        "agent = DQNAgent(state_dim, n_actions, epsilon=0.5)\n",
        "\n",
        "trainer = Trainer(\n",
        "    accelerator=\"gpu\",\n",
        "    max_epochs=-1,\n",
        "    enable_progress_bar=False\n",
        "    \n",
        "    # val_check_interval=50,\n",
        ")\n",
        "\n",
        "trainer.fit(agent)"
      ]
    },
    {
      "cell_type": "code",
      "execution_count": null,
      "metadata": {
        "collapsed": true,
        "id": "nMTzKp9dpIjD"
      },
      "outputs": [
        {
          "name": "stderr",
          "output_type": "stream",
          "text": [
            "2023-04-12 20:57:24.119109: I tensorflow/core/platform/cpu_feature_guard.cc:193] This TensorFlow binary is optimized with oneAPI Deep Neural Network Library (oneDNN) to use the following CPU instructions in performance-critical operations:  SSE4.1 SSE4.2 AVX AVX2 FMA\n",
            "To enable them in other operations, rebuild TensorFlow with the appropriate compiler flags.\n"
          ]
        }
      ],
      "source": [
        "class DQNAgent:\n",
        "    def __init__(self, state_shape, n_actions, epsilon=0, gamma=0.99):\n",
        "        \"\"\"A simple DQN agent\"\"\"\n",
        "        self.state_shape = state_shape\n",
        "        self.n_action = n_actions\n",
        "        self.epsilon = epsilon\n",
        "        self.gamma = gamma\n",
        "        \n",
        "        self.model = self._create_network(state_shape, n_actions)\n",
        "        self.target_model = self._create_network(state_shape, n_actions)\n",
        "    \n",
        "    def get_action(self, state, greedy=False):\n",
        "        \"\"\"pick actions given qvalues. Uses epsilon-greedy exploration strategy. \"\"\"\n",
        "        if not greedy and random.random() < self.epsilon:\n",
        "            return self.get_random_action()\n",
        "        else:\n",
        "            return self.get_best_action(state)\n",
        "    \n",
        "    def get_best_action(self, state):\n",
        "        qvalues = self.model.predict_on_batch(np.array([state]))[0]\n",
        "        best_action = np.argmax(qvalues)\n",
        "        return best_action\n",
        "    \n",
        "    def get_random_action(self):\n",
        "        return random.randint(0, self.n_action-1)\n",
        "    \n",
        "    def replay(self, exp_replay, batch_size):\n",
        "        states, actions, rewards, next_states, dones = exp_replay.sample(batch_size)\n",
        "        \n",
        "        merged = self.target_model.predict_on_batch(np.vstack([states, next_states]))\n",
        "        outputs_target = merged[:batch_size]\n",
        "        next_outputs_target = merged[batch_size:]\n",
        "        next_outputs_model = self.model.predict_on_batch(np.array(next_states))\n",
        "        \n",
        "        data = []\n",
        "        labels = []\n",
        "        for state, action, reward, done, output_target, next_output_target, next_output_model in \\\n",
        "            zip(states, actions, rewards, dones, outputs_target, next_outputs_target, next_outputs_model):\n",
        "            if done:\n",
        "                expected_reward = reward\n",
        "            else:\n",
        "                index = np.argmax(next_output_target)\n",
        "                expected_reward = reward + self.gamma * next_output_model[index]\n",
        "                \n",
        "            label = np.array(output_target)\n",
        "            label[action] = expected_reward\n",
        "            \n",
        "            data.append(state)\n",
        "            labels.append(label)\n",
        "        \n",
        "        data = np.array(data)\n",
        "        labels = np.array(labels)\n",
        "        \n",
        "        self.target_model.train_on_batch(data, labels)\n",
        "        \n",
        "    def update_weights(self):\n",
        "        \"\"\"copy trained Q Network params to target Q Network\"\"\"\n",
        "        self.model.set_weights(self.target_model.get_weights()) \n",
        "        \n",
        "    def save(self):\n",
        "        self.target_model.save_weights('breakout')\n",
        "        \n",
        "    def load(self):\n",
        "        self.model.load_weights('breakout')\n",
        "        self.target_model.load_weights('breakout')\n",
        "    \n",
        "    def _create_network(self, state_shape, n_actions):\n",
        "        network = Sequential([\n",
        "                InputLayer(state_shape),\n",
        "                Conv2D(16, 3, strides=2, activation='relu'),\n",
        "                Conv2D(32, 3, strides=2, activation='relu'),\n",
        "                Conv2D(64, 3, strides=2, activation='relu'),\n",
        "                Flatten(),\n",
        "                Dense(256, activation='relu'),\n",
        "                Dense(n_actions)\n",
        "            ])\n",
        "        network.compile(optimizer=Adam(amsgrad=True, learning_rate=0.0001), loss='mse')\n",
        "        return network"
      ]
    },
    {
      "cell_type": "code",
      "execution_count": 7,
      "metadata": {
        "collapsed": true,
        "id": "7JbUbRFgpIjD"
      },
      "outputs": [
        {
          "name": "stderr",
          "output_type": "stream",
          "text": [
            "2023-04-12 20:57:25.551756: I tensorflow/compiler/xla/stream_executor/cuda/cuda_gpu_executor.cc:981] successful NUMA node read from SysFS had negative value (-1), but there must be at least one NUMA node, so returning NUMA node zero\n",
            "2023-04-12 20:57:25.625729: I tensorflow/compiler/xla/stream_executor/cuda/cuda_gpu_executor.cc:981] successful NUMA node read from SysFS had negative value (-1), but there must be at least one NUMA node, so returning NUMA node zero\n",
            "2023-04-12 20:57:25.625871: I tensorflow/compiler/xla/stream_executor/cuda/cuda_gpu_executor.cc:981] successful NUMA node read from SysFS had negative value (-1), but there must be at least one NUMA node, so returning NUMA node zero\n",
            "2023-04-12 20:57:25.626302: I tensorflow/core/platform/cpu_feature_guard.cc:193] This TensorFlow binary is optimized with oneAPI Deep Neural Network Library (oneDNN) to use the following CPU instructions in performance-critical operations:  SSE4.1 SSE4.2 AVX AVX2 FMA\n",
            "To enable them in other operations, rebuild TensorFlow with the appropriate compiler flags.\n",
            "2023-04-12 20:57:25.627045: I tensorflow/compiler/xla/stream_executor/cuda/cuda_gpu_executor.cc:981] successful NUMA node read from SysFS had negative value (-1), but there must be at least one NUMA node, so returning NUMA node zero\n",
            "2023-04-12 20:57:25.627154: I tensorflow/compiler/xla/stream_executor/cuda/cuda_gpu_executor.cc:981] successful NUMA node read from SysFS had negative value (-1), but there must be at least one NUMA node, so returning NUMA node zero\n",
            "2023-04-12 20:57:25.627246: I tensorflow/compiler/xla/stream_executor/cuda/cuda_gpu_executor.cc:981] successful NUMA node read from SysFS had negative value (-1), but there must be at least one NUMA node, so returning NUMA node zero\n",
            "2023-04-12 20:57:26.354497: I tensorflow/compiler/xla/stream_executor/cuda/cuda_gpu_executor.cc:981] successful NUMA node read from SysFS had negative value (-1), but there must be at least one NUMA node, so returning NUMA node zero\n",
            "2023-04-12 20:57:26.354623: I tensorflow/compiler/xla/stream_executor/cuda/cuda_gpu_executor.cc:981] successful NUMA node read from SysFS had negative value (-1), but there must be at least one NUMA node, so returning NUMA node zero\n",
            "2023-04-12 20:57:26.354721: I tensorflow/compiler/xla/stream_executor/cuda/cuda_gpu_executor.cc:981] successful NUMA node read from SysFS had negative value (-1), but there must be at least one NUMA node, so returning NUMA node zero\n",
            "2023-04-12 20:57:26.354795: I tensorflow/core/common_runtime/gpu/gpu_device.cc:1613] Created device /job:localhost/replica:0/task:0/device:GPU:0 with 5603 MB memory:  -> device: 0, name: NVIDIA GeForce RTX 3060, pci bus id: 0000:07:00.0, compute capability: 8.6\n"
          ]
        }
      ],
      "source": [
        "agent = DQNAgent(state_dim, n_actions, epsilon=0.5)"
      ]
    },
    {
      "cell_type": "markdown",
      "metadata": {
        "id": "3b0_Ha6PpIjD"
      },
      "source": [
        "Now let's try out our agent to see if it raises any errors."
      ]
    },
    {
      "cell_type": "code",
      "execution_count": 8,
      "metadata": {
        "collapsed": true,
        "id": "vEGIgty6pIjD"
      },
      "outputs": [],
      "source": [
        "def evaluate(env, agent, n_games=1, greedy=False, t_max=10000):\n",
        "    \"\"\" Plays n_games full games. If greedy, picks actions as argmax(qvalues). Returns mean reward. \"\"\"\n",
        "    rewards = []\n",
        "    for _ in range(n_games):\n",
        "        s = env.reset()\n",
        "        reward = 0\n",
        "        for _ in range(t_max):\n",
        "            action = agent.get_action(s, greedy)\n",
        "            s, r, done, _ = env.step(action)\n",
        "            reward += r\n",
        "            if done:\n",
        "                break\n",
        "        rewards.append(reward)\n",
        "    return np.mean(rewards)"
      ]
    },
    {
      "cell_type": "code",
      "execution_count": 25,
      "metadata": {
        "collapsed": true,
        "id": "TeIZ-tFXpIjE"
      },
      "outputs": [
        {
          "name": "stderr",
          "output_type": "stream",
          "text": [
            "2023-04-12 12:55:51.914515: I tensorflow/compiler/xla/stream_executor/cuda/cuda_dnn.cc:428] Loaded cuDNN version 8401\n",
            "2023-04-12 12:55:52.671570: I tensorflow/compiler/xla/stream_executor/cuda/cuda_blas.cc:630] TensorFloat-32 will be used for the matrix multiplication. This will only be logged once.\n"
          ]
        },
        {
          "data": {
            "text/plain": [
              "0.0"
            ]
          },
          "execution_count": 25,
          "metadata": {},
          "output_type": "execute_result"
        }
      ],
      "source": [
        "evaluate(env, agent, n_games=1)"
      ]
    },
    {
      "cell_type": "code",
      "execution_count": 10,
      "metadata": {
        "collapsed": true,
        "id": "mgRDuSqfpIjE"
      },
      "outputs": [],
      "source": [
        "def play_and_record(agent, env, exp_replay, n_steps=1):\n",
        "    \"\"\"\n",
        "    Play the game for exactly n steps, record every (s,a,r,s', done) to replay buffer. \n",
        "    Whenever game ends, add record with done=True and reset the game.\n",
        "    It is guaranteed that env has done=False when passed to this function.\n",
        "    \n",
        "    PLEASE DO NOT RESET ENV UNLESS IT IS \"DONE\"\n",
        "    \n",
        "    :returns: return sum of rewards over time\n",
        "    \"\"\"\n",
        "    # initial state\n",
        "    reward = 0\n",
        "    s = env.framebuffer\n",
        "    step = 0\n",
        "    while True:\n",
        "        action = agent.get_action(s)\n",
        "        s_next, r, done, _ = env.step(action)\n",
        "        exp_replay.add(s, action, r, s_next, done)\n",
        "        s = s_next\n",
        "        step += 1\n",
        "        reward += r\n",
        "        if done:\n",
        "            env.reset()\n",
        "            s = env.framebuffer\n",
        "        if step >= n_steps:\n",
        "            return reward\n",
        "    "
      ]
    },
    {
      "cell_type": "code",
      "execution_count": 32,
      "metadata": {
        "collapsed": true,
        "id": "ANBBKyMMpIjF"
      },
      "outputs": [
        {
          "name": "stdout",
          "output_type": "stream",
          "text": [
            "Well done!\n"
          ]
        }
      ],
      "source": [
        "# testing your code. This may take a minute...\n",
        "exp_replay = ReplayBuffer(20000)\n",
        "\n",
        "play_and_record(agent, env, exp_replay, n_steps=10000)\n",
        "\n",
        "# if you're using your own experience replay buffer, some of those tests may need correction. \n",
        "# just make sure you know what your code does\n",
        "assert len(exp_replay) == 10000, \"play_and_record should have added exactly 10000 steps, \"\\\n",
        "                                 \"but instead added %i\"%len(exp_replay)\n",
        "is_dones = list(zip(*exp_replay._storage))[-1]\n",
        "\n",
        "assert 0 < np.mean(is_dones) < 0.1, \"Please make sure you restart the game whenever it is 'done' and record the is_done correctly into the buffer.\"\\\n",
        "                                    \"Got %f is_done rate over %i steps. [If you think it's your tough luck, just re-run the test]\"%(np.mean(is_dones), len(exp_replay))\n",
        "    \n",
        "for _ in range(100):\n",
        "    obs_batch, act_batch, reward_batch, next_obs_batch, is_done_batch = exp_replay.sample(10)\n",
        "    assert obs_batch.shape == next_obs_batch.shape == (10,) + state_dim\n",
        "    assert act_batch.shape == (10,), \"actions batch should have shape (10,) but is instead %s\"%str(act_batch.shape)\n",
        "    assert reward_batch.shape == (10,), \"rewards batch should have shape (10,) but is instead %s\"%str(reward_batch.shape)\n",
        "    assert is_done_batch.shape == (10,), \"is_done batch should have shape (10,) but is instead %s\"%str(is_done_batch.shape)\n",
        "    assert [int(i) in (0,1) for i in is_dones], \"is_done should be strictly True or False\"\n",
        "    assert [0 <= a <= n_actions for a in act_batch], \"actions should be within [0, n_actions]\"\n",
        "    \n",
        "print(\"Well done!\")"
      ]
    },
    {
      "cell_type": "code",
      "execution_count": 11,
      "metadata": {
        "collapsed": true,
        "id": "i3dHWxGfpIjI"
      },
      "outputs": [],
      "source": [
        "from tqdm import trange\n",
        "from IPython.display import clear_output\n",
        "import matplotlib.pyplot as plt\n",
        "%matplotlib inline"
      ]
    },
    {
      "cell_type": "code",
      "execution_count": 12,
      "metadata": {},
      "outputs": [],
      "source": [
        "mean_rw_history = []"
      ]
    },
    {
      "cell_type": "code",
      "execution_count": 13,
      "metadata": {},
      "outputs": [],
      "source": [
        "env = make_env()\n",
        "env.reset()\n",
        "n_actions = env.action_space.n\n",
        "state_dim = env.observation_space.shape\n",
        "\n",
        "exp_replay = ReplayBuffer(10**5)\n",
        "agent = DQNAgent(state_dim, n_actions, epsilon=0.5)\n",
        "play_and_record(agent, env, exp_replay, 10000)"
      ]
    },
    {
      "cell_type": "code",
      "execution_count": 24,
      "metadata": {},
      "outputs": [
        {
          "name": "stdout",
          "output_type": "stream",
          "text": [
            "buffer size = 100000, epsilon = 0.02000\n"
          ]
        },
        {
          "data": {
            "image/png": "[encoded data removed]",
            "text/plain": [
              "<Figure size 640x480 with 1 Axes>"
            ]
          },
          "metadata": {},
          "output_type": "display_data"
        },
        {
          "name": "stderr",
          "output_type": "stream",
          "text": [
            " 16%|█▌        | 15639/100000 [1:21:42<7:20:45,  3.19it/s]  \n"
          ]
        }
      ],
      "source": [
        "for i in trange(10**5):\n",
        "    \n",
        "    # play\n",
        "    play_and_record(agent, env, exp_replay, 10)\n",
        "    \n",
        "    # train\n",
        "    agent.replay(exp_replay, 512)\n",
        "    \n",
        "    if i % 500 == 0:\n",
        "        agent.update_weights()\n",
        "        \n",
        "    if i % 500 == 0:\n",
        "        agent.epsilon = max(agent.epsilon * 0.99, 0.02)\n",
        "    \n",
        "    if i % 500 == 0:\n",
        "        mean_rw_history.append(evaluate(make_env(), agent, n_games=15, greedy=False))\n",
        "        agent.save()\n",
        "        \n",
        "    if i % 500 == 0:\n",
        "        clear_output(True)\n",
        "        print(\"buffer size = %i, epsilon = %.5f\" % (len(exp_replay), agent.epsilon))\n",
        "        plt.title(\"mean reward per game\")\n",
        "        plt.plot(mean_rw_history)\n",
        "        plt.grid()\n",
        "        plt.show()"
      ]
    }
  ],
  "metadata": {
    "anaconda-cloud": {},
    "colab": {
      "provenance": []
    },
    "kernelspec": {
      "display_name": "Python 3",
      "language": "python",
      "name": "python3"
    },
    "language_info": {
      "codemirror_mode": {
        "name": "ipython",
        "version": 3
      },
      "file_extension": ".py",
      "mimetype": "text/x-python",
      "name": "python",
      "nbconvert_exporter": "python",
      "pygments_lexer": "ipython3",
      "version": "3.10.9"
    },
    "vscode": {
      "interpreter": {
        "hash": "a62e98bbf6d63418ea38931bfcc4e614eb6ea6ab895e26b028d9d7dcb6f80a63"
      }
    }
  },
  "nbformat": 4,
  "nbformat_minor": 0
}
