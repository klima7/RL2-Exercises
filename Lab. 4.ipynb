{
 "cells": [
  {
   "cell_type": "markdown",
   "metadata": {},
   "source": [
    "# Laboratorium 4 (4 pkt.)\n",
    "\n",
    "Celem czwartego laboratorium jest zapoznanie się oraz zaimplementowanie algorytmów głębokiego uczenia aktywnego. Zaimplementowane algorytmy będą testowane z wykorzystaniem wcześniej przygotowanych środowisk: *FrozenLake* i *Pacman* oraz środowiska z OpenAI - *CartPole*.\n"
   ]
  },
  {
   "cell_type": "markdown",
   "metadata": {},
   "source": [
    "Dołączenie standardowych bibliotek"
   ]
  },
  {
   "cell_type": "code",
   "execution_count": 1,
   "metadata": {},
   "outputs": [],
   "source": [
    "from collections import deque\n",
    "import gym\n",
    "import numpy as np\n",
    "import random"
   ]
  },
  {
   "cell_type": "markdown",
   "metadata": {},
   "source": [
    "Dołączenie bibliotek ze środowiskami:"
   ]
  },
  {
   "cell_type": "code",
   "execution_count": 2,
   "metadata": {},
   "outputs": [],
   "source": [
    "from env.FrozenLakeMDP import frozenLake\n",
    "from env.FrozenLakeMDPExtended import frozenLakeExtended\n",
    "from env.FrozenLakeMDP import LEFT, RIGHT, UP, DOWN"
   ]
  },
  {
   "cell_type": "markdown",
   "metadata": {},
   "source": [
    "Dołączenie bibliotek do obsługi sieci neuronowych"
   ]
  },
  {
   "cell_type": "code",
   "execution_count": 3,
   "metadata": {},
   "outputs": [],
   "source": [
    "import tensorflow as tf\n",
    "import tensorflow.keras as keras\n",
    "import tensorflow.keras.layers as layers"
   ]
  },
  {
   "cell_type": "code",
   "execution_count": 4,
   "metadata": {},
   "outputs": [
    {
     "data": {
      "text/plain": [
       "[]"
      ]
     },
     "execution_count": 4,
     "metadata": {},
     "output_type": "execute_result"
    }
   ],
   "source": [
    "tf.config.list_physical_devices('GPU')"
   ]
  },
  {
   "cell_type": "markdown",
   "metadata": {},
   "source": [
    "## Zadanie 1 - Deep Q-Network\n",
    "\n",
    "<p style='text-align: justify;'>\n",
    "Celem ćwiczenie jest zaimplementowanie algorytmu Deep Q-Network. Wartoscią oczekiwaną sieci jest:\n",
    "\\begin{equation}\n",
    "        Q(s_t, a_t) = r_{t+1} + \\gamma \\text{max}_a Q(s_{t + 1}, a)\n",
    "\\end{equation}\n",
    "</p>"
   ]
  },
  {
   "cell_type": "code",
   "execution_count": 5,
   "metadata": {},
   "outputs": [],
   "source": [
    "class DQNAgent:\n",
    "    def __init__(self, action_size, learning_rate, model):\n",
    "        self.action_size = action_size\n",
    "        self.memory = deque(maxlen=2000)\n",
    "        self.gamma = 0.95    # discount rate\n",
    "        self.epsilon = 1.0  # exploration rate\n",
    "        self.epsilon_min = 0.01\n",
    "        self.epsilon_decay = 0.95\n",
    "        self.learning_rate = learning_rate\n",
    "        self.model = model\n",
    "\n",
    "    def remember(self, state, action, reward, next_state, done):\n",
    "        #Function adds information to the memory about last action and its results\n",
    "        self.memory.append((state, action, reward, next_state, done)) \n",
    "\n",
    "    def get_action(self, state):\n",
    "        \"\"\"\n",
    "        Compute the action to take in the current state, including exploration.\n",
    "        With probability self.epsilon, we should take a random action.\n",
    "            otherwise - the best policy action (self.get_best_action).\n",
    "\n",
    "        Note: To pick randomly from a list, use random.choice(list).\n",
    "              To pick True or False with a given probablity, generate uniform number in [0, 1]\n",
    "              and compare it with your probability\n",
    "        \"\"\"\n",
    "\n",
    "        #\n",
    "        # INSERT CODE HERE to get action in a given state (according to epsilon greedy algorithm)\n",
    "        #     \n",
    "        \n",
    "        if random.random() < self.epsilon:\n",
    "            return random.randint(0, self.action_size-1)\n",
    "        else:\n",
    "            return self.get_best_action(state)\n",
    "\n",
    "  \n",
    "    def get_best_action(self, state):\n",
    "        \"\"\"\n",
    "        Compute the best action to take in a state.\n",
    "        \"\"\"\n",
    "\n",
    "        #\n",
    "        # INSERT CODE HERE to get best possible action in a given state (remember to break ties randomly)\n",
    "        #\n",
    "        prediction = self.model.predict(np.array([state]), batch_size=1, verbose=0)[0]\n",
    "        return np.argmax(prediction)\n",
    "\n",
    "    def replay(self, batch_size):\n",
    "        \"\"\"\n",
    "        Function learn network using randomly selected actions from the memory. \n",
    "        First calculates Q value for the next state and choose action with the biggest value.\n",
    "        Target value is calculated according to:\n",
    "                Q(s,a) := (r + gamma * max_a(Q(s', a)))\n",
    "        except the situation when the next action is the last action, in such case Q(s, a) := r.\n",
    "        In order to change only those weights responsible for chosing given action, the rest values should be those\n",
    "        returned by the network for state state.\n",
    "        The network should be trained on batch_size samples.\n",
    "        \"\"\"\n",
    "        data = []\n",
    "        labels = []\n",
    "        \n",
    "        entries = random.sample(self.memory, k=batch_size)\n",
    "        \n",
    "        states = [entry[0] for entry in entries]\n",
    "        next_states = [entry[3] for entry in entries]\n",
    "    \n",
    "        merged = self.model.predict(np.array(states+next_states), batch_size=2*batch_size, verbose=0)\n",
    "        outputs = merged[:batch_size]\n",
    "        next_outputs = merged[batch_size:]\n",
    "        \n",
    "        data = []\n",
    "        labels = []\n",
    "        \n",
    "        for (state, action, reward, next_state, done), output, next_output in zip(entries, outputs, next_outputs):\n",
    "            if done:\n",
    "                expected_reward = reward\n",
    "            else:\n",
    "                expected_reward = reward + self.gamma * np.max(next_output)\n",
    "                \n",
    "            expected_output = np.array(output)\n",
    "            expected_output[action] = expected_reward\n",
    "            \n",
    "            data.append(state)\n",
    "            labels.append(expected_output)\n",
    "        \n",
    "        data = np.array(data)\n",
    "        labels = np.array(labels)\n",
    "        \n",
    "        self.model.fit(data, labels, verbose=0)\n",
    "        \n",
    "        \n",
    "\n",
    "    def update_epsilon_value(self):\n",
    "        #Every each epoch epsilon value should be updated according to equation: \n",
    "        #self.epsilon *= self.epsilon_decay, but the updated value shouldn't be lower then epsilon_min value\n",
    "        self.epsilon = max(self.epsilon_min, self.epsilon*self.epsilon_decay)"
   ]
  },
  {
   "cell_type": "markdown",
   "metadata": {},
   "source": [
    "Czas przygotować model sieci, która będzie się uczyła poruszania po środowisku *FrozenLake*, warstwa wejściowa powinna mieć tyle neuronów ile jest możlliwych stanów, warstwa wyjściowa tyle neuronów ile jest możliwych akcji do wykonania:"
   ]
  },
  {
   "cell_type": "code",
   "execution_count": null,
   "metadata": {},
   "outputs": [
    {
     "name": "stdout",
     "output_type": "stream",
     "text": [
      "Model: \"sequential_1\"\n",
      "_________________________________________________________________\n",
      " Layer (type)                Output Shape              Param #   \n",
      "=================================================================\n",
      " dense_4 (Dense)             (None, 170)               11050     \n",
      "                                                                 \n",
      " dense_5 (Dense)             (None, 170)               29070     \n",
      "                                                                 \n",
      " dense_6 (Dense)             (None, 170)               29070     \n",
      "                                                                 \n",
      " dense_7 (Dense)             (None, 4)                 684       \n",
      "                                                                 \n",
      "=================================================================\n",
      "Total params: 69,874\n",
      "Trainable params: 69,874\n",
      "Non-trainable params: 0\n",
      "_________________________________________________________________\n"
     ]
    }
   ],
   "source": [
    "env = frozenLake(\"8x8\")\n",
    "\n",
    "state_size = env.get_number_of_states()\n",
    "action_size = len(env.get_possible_actions(None))\n",
    "learning_rate = 0.001\n",
    "\n",
    "model = keras.models.Sequential([\n",
    "    layers.InputLayer((state_size,)),\n",
    "    layers.Dense(170, activation='relu'),\n",
    "    layers.Dense(170, activation='relu'),\n",
    "    layers.Dense(170, activation='relu'),\n",
    "    layers.Dense(4 , activation=None)\n",
    "])\n",
    "\n",
    "model.compile(optimizer='adam', loss='mse')\n",
    "model.summary()\n",
    "        "
   ]
  },
  {
   "cell_type": "markdown",
   "metadata": {},
   "source": [
    " Czas nauczyć agenta poruszania się po środowisku *FrozenLake*, jako stan przyjmij wektor o liczbie elementów równej liczbie możliwych stanów, z wartością 1 ustawioną w komórce o indeksie równym aktualnemu stanowi, pozostałe elementy mają być wypełnione zerami:\n",
    "* 1 pkt < 35 epok,\n",
    "* 0.5 pkt < 60 epok,\n",
    "* 0.25 pkt - w pozostałych przypadkach."
   ]
  },
  {
   "cell_type": "code",
   "execution_count": null,
   "metadata": {},
   "outputs": [
    {
     "name": "stdout",
     "output_type": "stream",
     "text": [
      "epoch #0\tmean reward = 0.010\tepsilon = 0.750\n",
      "epoch #1\tmean reward = 0.010\tepsilon = 0.712\n",
      "epoch #2\tmean reward = 0.050\tepsilon = 0.677\n",
      "epoch #3\tmean reward = 0.090\tepsilon = 0.643\n",
      "epoch #4\tmean reward = 0.050\tepsilon = 0.611\n",
      "epoch #5\tmean reward = 0.010\tepsilon = 0.580\n",
      "epoch #6\tmean reward = 0.130\tepsilon = 0.551\n",
      "epoch #7\tmean reward = 0.050\tepsilon = 0.524\n",
      "epoch #8\tmean reward = 0.000\tepsilon = 0.498\n",
      "epoch #9\tmean reward = 0.060\tepsilon = 0.473\n",
      "epoch #10\tmean reward = 0.100\tepsilon = 0.449\n",
      "epoch #11\tmean reward = 0.030\tepsilon = 0.427\n",
      "epoch #12\tmean reward = 0.120\tepsilon = 0.405\n",
      "epoch #13\tmean reward = 0.010\tepsilon = 0.385\n",
      "epoch #14\tmean reward = 0.000\tepsilon = 0.366\n",
      "epoch #15\tmean reward = 0.010\tepsilon = 0.347\n",
      "epoch #16\tmean reward = 0.170\tepsilon = 0.330\n",
      "epoch #17\tmean reward = 0.040\tepsilon = 0.314\n",
      "epoch #18\tmean reward = 0.170\tepsilon = 0.298\n",
      "epoch #19\tmean reward = 0.320\tepsilon = 0.283\n",
      "epoch #20\tmean reward = 0.390\tepsilon = 0.269\n",
      "epoch #21\tmean reward = 0.570\tepsilon = 0.255\n",
      "epoch #22\tmean reward = 0.680\tepsilon = 0.243\n",
      "epoch #23\tmean reward = 0.700\tepsilon = 0.231\n",
      "epoch #24\tmean reward = 0.760\tepsilon = 0.219\n",
      "epoch #25\tmean reward = 0.750\tepsilon = 0.208\n",
      "epoch #26\tmean reward = 0.710\tepsilon = 0.198\n",
      "epoch #27\tmean reward = 0.770\tepsilon = 0.188\n",
      "epoch #28\tmean reward = 0.730\tepsilon = 0.178\n",
      "epoch #29\tmean reward = 0.840\tepsilon = 0.169\n",
      "epoch #30\tmean reward = 0.810\tepsilon = 0.161\n",
      "epoch #31\tmean reward = 0.850\tepsilon = 0.153\n",
      "epoch #32\tmean reward = 0.780\tepsilon = 0.145\n",
      "epoch #33\tmean reward = 0.870\tepsilon = 0.138\n",
      "epoch #34\tmean reward = 0.660\tepsilon = 0.131\n",
      "epoch #35\tmean reward = 0.710\tepsilon = 0.125\n",
      "epoch #36\tmean reward = 0.870\tepsilon = 0.118\n",
      "epoch #37\tmean reward = 0.900\tepsilon = 0.112\n",
      "epoch #38\tmean reward = 0.910\tepsilon = 0.107\n",
      "You Win!\n"
     ]
    }
   ],
   "source": [
    "agent = DQNAgent(action_size, learning_rate, model)\n",
    "\n",
    "agent.epsilon = 0.75\n",
    "\n",
    "done = False\n",
    "batch_size = 64\n",
    "EPISODES = 10000\n",
    "counter = 0\n",
    "for e in range(EPISODES):\n",
    "\n",
    "    summary = []\n",
    "    for _ in range(100):\n",
    "        total_reward = 0\n",
    "        env_state = env.reset()\n",
    "    \n",
    "        #\n",
    "        # INSERT CODE HERE to prepare appropriate format of the state for network\n",
    "        #\n",
    "        state = np.zeros((state_size,))\n",
    "        state[0] = 1\n",
    "        \n",
    "        for time in range(1000):\n",
    "            action = agent.get_action(state)\n",
    "            next_state_env, reward, done, _ = env.step(action)\n",
    "            total_reward += reward\n",
    "\n",
    "            #\n",
    "            # INSERT CODE HERE to prepare appropriate format of the next state for network\n",
    "            #\n",
    "            next_state = np.zeros((state_size,))\n",
    "            next_state[next_state_env] = 1\n",
    "\n",
    "            #add to experience memory\n",
    "            agent.remember(state, action, reward, next_state, done)\n",
    "            state = next_state\n",
    "            if done:\n",
    "                break\n",
    "\n",
    "        #\n",
    "        # INSERT CODE HERE to train network if in the memory is more samples then size of the batch\n",
    "        #\n",
    "        if len(agent.memory) > batch_size:\n",
    "            agent.replay(batch_size)\n",
    "        \n",
    "        summary.append(total_reward)\n",
    "    print(\"epoch #{}\\tmean reward = {:.3f}\\tepsilon = {:.3f}\".format(e, np.mean(summary), agent.epsilon))\n",
    "    if np.mean(summary) > 0.9:\n",
    "        print (\"You Win!\")\n",
    "        break\n",
    "    \n",
    "    agent.update_epsilon_value()"
   ]
  },
  {
   "cell_type": "markdown",
   "metadata": {},
   "source": [
    "Czas przygotować model sieci, która będzie się uczyła poruszania po środowisku *FrozenLakeExtended*, tym razem stan nie jest określany poprzez pojedynczą liczbę, a przez 3 tablice:\n",
    "* pierwsza zawierająca informacje o celu,\n",
    "* druga zawierająca informacje o dziurach,\n",
    "* trzecia zawierająca informację o położeniu gracza."
   ]
  },
  {
   "cell_type": "markdown",
   "metadata": {},
   "source": [
    " Czas nauczyć agenta poruszania się po środowisku *FrozenLakeExtended*, jako stan przyjmij wektor składający się ze wszystkich trzech tablic (2 pkt.):"
   ]
  },
  {
   "cell_type": "code",
   "execution_count": null,
   "metadata": {},
   "outputs": [
    {
     "name": "stdout",
     "output_type": "stream",
     "text": [
      "Model: \"sequential\"\n",
      "_________________________________________________________________\n",
      " Layer (type)                Output Shape              Param #   \n",
      "=================================================================\n",
      " conv2d (Conv2D)             (None, 4, 4, 16)          64        \n",
      "                                                                 \n",
      " flatten (Flatten)           (None, 256)               0         \n",
      "                                                                 \n",
      " dense (Dense)               (None, 128)               32896     \n",
      "                                                                 \n",
      " dense_1 (Dense)             (None, 64)                8256      \n",
      "                                                                 \n",
      " dense_2 (Dense)             (None, 4)                 260       \n",
      "                                                                 \n",
      "=================================================================\n",
      "Total params: 41,476\n",
      "Trainable params: 41,476\n",
      "Non-trainable params: 0\n",
      "_________________________________________________________________\n"
     ]
    }
   ],
   "source": [
    "env = frozenLakeExtended(\"4x4\")\n",
    "\n",
    "state_size = env.get_number_of_states()\n",
    "action_size = len(env.get_possible_actions(None))\n",
    "learning_rate = 0.001\n",
    "\n",
    "        #\n",
    "        # INSERT CODE HERE to build network\n",
    "        #\n",
    "        \n",
    "model = keras.models.Sequential([\n",
    "    layers.InputLayer((4, 4, 3)),\n",
    "    layers.Conv2D(16, (1, 1), padding='same'),\n",
    "    layers.Flatten(),\n",
    "    layers.Dense(128, activation='relu'),\n",
    "    layers.Dense(64, activation='relu'),\n",
    "    layers.Dense(4 , activation=None)\n",
    "])\n",
    "\n",
    "model.compile(optimizer='adam', loss='mse')\n",
    "model.summary()"
   ]
  },
  {
   "cell_type": "code",
   "execution_count": null,
   "metadata": {},
   "outputs": [
    {
     "name": "stdout",
     "output_type": "stream",
     "text": [
      "epoch #0\tmean reward = 0.050\tepsilon = 0.750\n",
      "epoch #1\tmean reward = 0.080\tepsilon = 0.712\n",
      "epoch #2\tmean reward = 0.090\tepsilon = 0.677\n",
      "epoch #3\tmean reward = 0.150\tepsilon = 0.643\n",
      "epoch #4\tmean reward = 0.220\tepsilon = 0.611\n",
      "epoch #5\tmean reward = 0.290\tepsilon = 0.580\n",
      "epoch #6\tmean reward = 0.360\tepsilon = 0.551\n",
      "epoch #7\tmean reward = 0.340\tepsilon = 0.524\n",
      "epoch #8\tmean reward = 0.420\tepsilon = 0.498\n",
      "epoch #9\tmean reward = 0.400\tepsilon = 0.473\n",
      "epoch #10\tmean reward = 0.420\tepsilon = 0.449\n",
      "epoch #11\tmean reward = 0.440\tepsilon = 0.427\n",
      "epoch #12\tmean reward = 0.520\tepsilon = 0.405\n",
      "epoch #13\tmean reward = 0.490\tepsilon = 0.385\n",
      "epoch #14\tmean reward = 0.610\tepsilon = 0.366\n",
      "epoch #15\tmean reward = 0.640\tepsilon = 0.347\n",
      "epoch #16\tmean reward = 0.610\tepsilon = 0.330\n",
      "epoch #17\tmean reward = 0.640\tepsilon = 0.314\n",
      "epoch #18\tmean reward = 0.720\tepsilon = 0.298\n",
      "epoch #19\tmean reward = 0.740\tepsilon = 0.283\n",
      "epoch #20\tmean reward = 0.750\tepsilon = 0.269\n",
      "epoch #21\tmean reward = 0.710\tepsilon = 0.255\n",
      "epoch #22\tmean reward = 0.700\tepsilon = 0.243\n",
      "epoch #23\tmean reward = 0.770\tepsilon = 0.231\n",
      "epoch #24\tmean reward = 0.790\tepsilon = 0.219\n",
      "epoch #25\tmean reward = 0.720\tepsilon = 0.208\n",
      "epoch #26\tmean reward = 0.690\tepsilon = 0.198\n",
      "epoch #27\tmean reward = 0.730\tepsilon = 0.188\n",
      "epoch #28\tmean reward = 0.850\tepsilon = 0.178\n",
      "epoch #29\tmean reward = 0.820\tepsilon = 0.169\n",
      "epoch #30\tmean reward = 0.830\tepsilon = 0.161\n",
      "epoch #31\tmean reward = 0.800\tepsilon = 0.153\n",
      "You Win!\n"
     ]
    }
   ],
   "source": [
    "agent = DQNAgent(action_size, learning_rate, model)\n",
    "\n",
    "agent.epsilon = 0.75\n",
    "\n",
    "done = False\n",
    "batch_size = 64\n",
    "EPISODES = 2000\n",
    "counter = 0\n",
    "for e in range(EPISODES):\n",
    "    summary = []\n",
    "    for _ in range(100):\n",
    "        total_reward = 0\n",
    "        env_state = env.reset()\n",
    "    \n",
    "        #\n",
    "        # INSERT CODE HERE to prepare appropriate format of the state for network\n",
    "        #\n",
    "        state = np.array([\n",
    "            np.array(env.goal).reshape((4, 4)),\n",
    "            np.array(env.holes).reshape((4, 4)),\n",
    "            np.array(env.player).reshape((4, 4)),\n",
    "        ]).transpose((1, 2, 0))\n",
    "        \n",
    "        for time in range(1000):\n",
    "            action = agent.get_action(state)\n",
    "            next_state_env, reward, done, _ = env.step(action)\n",
    "            total_reward += reward\n",
    "\n",
    "            #\n",
    "            # INSERT CODE HERE to prepare appropriate format of the next state for network\n",
    "            #\n",
    "            goal, holes, player = next_state_env\n",
    "            next_state = np.array([\n",
    "                np.array(goal).reshape((4, 4)),\n",
    "                np.array(holes).reshape((4, 4)),\n",
    "                np.array(player).reshape((4, 4)),\n",
    "            ]).transpose((1, 2, 0))\n",
    "\n",
    "            #add to experience memory\n",
    "            agent.remember(state, action, reward, next_state, done)\n",
    "            state = next_state\n",
    "            if done:\n",
    "                break\n",
    "\n",
    "        #\n",
    "        # INSERT CODE HERE to train network if in the memory is more samples then size of the batch\n",
    "        #\n",
    "        if len(agent.memory) > batch_size:\n",
    "            agent.replay(batch_size)\n",
    "        \n",
    "        summary.append(total_reward)\n",
    "    if np.mean(summary) > 0.9:\n",
    "        print (\"You Win!\")\n",
    "        break\n",
    "    print(\"epoch #{}\\tmean reward = {:.3f}\\tepsilon = {:.3f}\".format(e, np.mean(summary), agent.epsilon))\n",
    "    agent.update_epsilon_value()"
   ]
  },
  {
   "cell_type": "markdown",
   "metadata": {},
   "source": [
    "Czas przygotować model sieci, która będzie się uczyła działania w środowisku [*CartPool*](https://gym.openai.com/envs/CartPole-v0/):"
   ]
  },
  {
   "cell_type": "code",
   "execution_count": null,
   "metadata": {},
   "outputs": [
    {
     "name": "stdout",
     "output_type": "stream",
     "text": [
      "Model: \"sequential\"\n",
      "_________________________________________________________________\n",
      " Layer (type)                Output Shape              Param #   \n",
      "=================================================================\n",
      " dense (Dense)               (None, 32)                160       \n",
      "                                                                 \n",
      " dense_1 (Dense)             (None, 32)                1056      \n",
      "                                                                 \n",
      " dense_2 (Dense)             (None, 32)                1056      \n",
      "                                                                 \n",
      " dense_3 (Dense)             (None, 32)                1056      \n",
      "                                                                 \n",
      " dense_4 (Dense)             (None, 32)                1056      \n",
      "                                                                 \n",
      " dense_5 (Dense)             (None, 2)                 66        \n",
      "                                                                 \n",
      "=================================================================\n",
      "Total params: 4,450\n",
      "Trainable params: 4,450\n",
      "Non-trainable params: 0\n",
      "_________________________________________________________________\n"
     ]
    }
   ],
   "source": [
    "env = gym.make(\"CartPole-v0\").env\n",
    "state_size = env.observation_space.shape[0]\n",
    "action_size = env.action_space.n\n",
    "learning_rate = 0.001\n",
    "\n",
    "model = keras.models.Sequential([\n",
    "    layers.InputLayer((state_size,)),\n",
    "    layers.Dense(32, activation='relu'),\n",
    "    layers.Dense(32, activation='relu'),\n",
    "    layers.Dense(32, activation='relu'),\n",
    "    layers.Dense(32, activation='relu'),\n",
    "    layers.Dense(32, activation='relu'),\n",
    "    layers.Dense(action_size , activation=None)\n",
    "])\n",
    "\n",
    "model.compile(optimizer='adam', loss='mse')\n",
    "model.summary()"
   ]
  },
  {
   "cell_type": "markdown",
   "metadata": {},
   "source": [
    "Czas nauczyć agenta gry w środowisku *CartPool*:\n",
    "* 1 pkt < 10 epok,\n",
    "* 0.5 pkt < 20 epok,\n",
    "* 0.25 pkt - w pozostałych przypadkach."
   ]
  },
  {
   "cell_type": "code",
   "execution_count": null,
   "metadata": {},
   "outputs": [
    {
     "name": "stdout",
     "output_type": "stream",
     "text": [
      "epoch #0\tmean reward = 17.910\tepsilon = 0.750\n",
      "epoch #1\tmean reward = 17.350\tepsilon = 0.712\n",
      "epoch #2\tmean reward = 21.810\tepsilon = 0.677\n",
      "epoch #3\tmean reward = 40.540\tepsilon = 0.643\n",
      "epoch #4\tmean reward = 56.780\tepsilon = 0.611\n",
      "epoch #5\tmean reward = 81.980\tepsilon = 0.580\n",
      "epoch #6\tmean reward = 85.350\tepsilon = 0.551\n",
      "epoch #7\tmean reward = 128.960\tepsilon = 0.524\n",
      "epoch #8\tmean reward = 116.170\tepsilon = 0.498\n",
      "epoch #9\tmean reward = 158.750\tepsilon = 0.473\n",
      "epoch #10\tmean reward = 179.090\tepsilon = 0.449\n",
      "epoch #11\tmean reward = 186.300\tepsilon = 0.427\n",
      "You Win!\n"
     ]
    }
   ],
   "source": [
    "agent = DQNAgent(action_size, learning_rate, model)\n",
    "\n",
    "agent.epsilon = 0.75\n",
    "\n",
    "done = False\n",
    "batch_size = 64\n",
    "EPISODES = 1000\n",
    "counter = 0\n",
    "for e in range(EPISODES):\n",
    "    summary = []\n",
    "    for _ in range(100):\n",
    "        total_reward = 0\n",
    "        env_state = env.reset()\n",
    "        \n",
    "        #\n",
    "        # INSERT CODE HERE to prepare appropriate format of the state for network\n",
    "        #\n",
    "        state = np.array(env_state)\n",
    "        \n",
    "        for time in range(300):\n",
    "            action = agent.get_action(state)\n",
    "            next_state_env, reward, done, _ = env.step(action)\n",
    "            total_reward += reward\n",
    "\n",
    "            #\n",
    "            # INSERT CODE HERE to prepare appropriate format of the next state for network\n",
    "            #\n",
    "            next_state = np.array(next_state_env)\n",
    "\n",
    "            #add to experience memory\n",
    "            agent.remember(state, action, reward, next_state, done)\n",
    "            state = next_state\n",
    "            if done:\n",
    "                break\n",
    "\n",
    "        #\n",
    "        # INSERT CODE HERE to train network if in the memory is more samples then size of the batch\n",
    "        #\n",
    "        if len(agent.memory) > batch_size:\n",
    "            agent.replay(batch_size)\n",
    "        \n",
    "        summary.append(total_reward)\n",
    "    if np.mean(summary) > 195:\n",
    "        print (\"You Win!\")\n",
    "        break\n",
    "    print(\"epoch #{}\\tmean reward = {:.3f}\\tepsilon = {:.3f}\".format(e, np.mean(summary), agent.epsilon))\n",
    "    agent.update_epsilon_value()"
   ]
  }
 ],
 "metadata": {
  "kernelspec": {
   "display_name": "base",
   "language": "python",
   "name": "python3"
  },
  "language_info": {
   "codemirror_mode": {
    "name": "ipython",
    "version": 3
   },
   "file_extension": ".py",
   "mimetype": "text/x-python",
   "name": "python",
   "nbconvert_exporter": "python",
   "pygments_lexer": "ipython3",
   "version": "3.9.12"
  },
  "vscode": {
   "interpreter": {
    "hash": "776f41de3c35c4232e8cdffd7fe524836acd31342a15f9670dfe84d93d7eae81"
   }
  }
 },
 "nbformat": 4,
 "nbformat_minor": 4
}
